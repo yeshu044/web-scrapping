{
 "cells": [
  {
   "cell_type": "code",
   "execution_count": 124,
   "id": "370777fd",
   "metadata": {},
   "outputs": [],
   "source": [
    "import pandas as pd\n",
    "import glob\n",
    "from bs4 import BeautifulSoup\n",
    "import csv\n",
    "from selenium import webdriver\n",
    "import pandas as pd\n",
    "from datetime import date\n",
    "from pathlib import Path\n",
    "from datetime import datetime\n",
    "path = './products/'"
   ]
  },
  {
   "cell_type": "code",
   "execution_count": 133,
   "id": "10cbb5ff",
   "metadata": {},
   "outputs": [],
   "source": [
    "def getCost(driver,link,source):\n",
    "    try:\n",
    "        if source == 'flipkart':\n",
    "            driver.get(link)\n",
    "            soup = BeautifulSoup(driver.page_source,'html.parser')\n",
    "            return  soup.find_all('div',class_='_30jeq3 _16Jk6d')[0].text\n",
    "        else:\n",
    "            driver.get(link)\n",
    "            soup = BeautifulSoup(driver.page_source,'html.parser')\n",
    "            return soup.find_all('span',id='priceblock_ourprice')[0].text\n",
    "    except Exception as err:\n",
    "        print(err)\n",
    "        return 'Nan'"
   ]
  },
  {
   "cell_type": "code",
   "execution_count": 135,
   "id": "c3a042f1",
   "metadata": {},
   "outputs": [
    {
     "name": "stderr",
     "output_type": "stream",
     "text": [
      "/tmp/ipykernel_45259/1764205522.py:1: DeprecationWarning: executable_path has been deprecated, please pass in a Service object\n",
      "  driver = webdriver.Chrome('/home/tricon/Downloads/chromedriver')\n",
      "/tmp/ipykernel_45259/1764205522.py:3: DeprecationWarning: executable_path has been deprecated, please pass in a Service object\n",
      "  driver = webdriver.Chrome('/home/tricon/Downloads/chromedriver')\n"
     ]
    },
    {
     "name": "stdout",
     "output_type": "stream",
     "text": [
      "₹742\n"
     ]
    },
    {
     "name": "stderr",
     "output_type": "stream",
     "text": [
      "/home/tricon/.local/lib/python3.8/site-packages/pandas/core/indexing.py:1732: SettingWithCopyWarning: \n",
      "A value is trying to be set on a copy of a slice from a DataFrame\n",
      "\n",
      "See the caveats in the documentation: https://pandas.pydata.org/pandas-docs/stable/user_guide/indexing.html#returning-a-view-versus-a-copy\n",
      "  self._setitem_single_block(indexer, value, name)\n"
     ]
    },
    {
     "name": "stdout",
     "output_type": "stream",
     "text": [
      "₹783\n",
      "₹93\n",
      "₹713.00\n",
      "₹144.00\n",
      "₹142.00\n"
     ]
    }
   ],
   "source": [
    "products = pd.concat([pd.read_csv(f) for f in glob.glob(path+'*.csv')]).drop_duplicates('name_hash')\n",
    "driver = webdriver.Chrome('/home/tricon/Downloads/chromedriver')\n",
    "for i in range(products.shape[0]):\n",
    "    driver = webdriver.Chrome('/home/tricon/Downloads/chromedriver')\n",
    "    print(products.iloc[i]['price'])\n",
    "    products.price.iloc[[i]] = getCost(driver,products.iloc[i]['product_link'],products.iloc[i]['soure'])\n",
    "driver.quit()"
   ]
  },
  {
   "cell_type": "code",
   "execution_count": 136,
   "id": "b3ce7be7",
   "metadata": {},
   "outputs": [],
   "source": [
    "date  = datetime.now().strftime('%Y%m%d')\n",
    "date_formatted = datetime.now().strftime('%D')\n",
    "products_cost = products[['product','price','name_hash']] "
   ]
  },
  {
   "cell_type": "code",
   "execution_count": 137,
   "id": "4ed3ff97",
   "metadata": {},
   "outputs": [
    {
     "name": "stderr",
     "output_type": "stream",
     "text": [
      "/home/tricon/.local/lib/python3.8/site-packages/pandas/core/frame.py:3607: SettingWithCopyWarning: \n",
      "A value is trying to be set on a copy of a slice from a DataFrame.\n",
      "Try using .loc[row_indexer,col_indexer] = value instead\n",
      "\n",
      "See the caveats in the documentation: https://pandas.pydata.org/pandas-docs/stable/user_guide/indexing.html#returning-a-view-versus-a-copy\n",
      "  self._set_item(key, value)\n"
     ]
    }
   ],
   "source": [
    "products_cost['date'] = date_formatted\n",
    "products_cost.to_csv(f'product_cost/{date}_product_cost.csv')"
   ]
  },
  {
   "cell_type": "code",
   "execution_count": null,
   "id": "19dc3edb",
   "metadata": {},
   "outputs": [],
   "source": []
  },
  {
   "cell_type": "code",
   "execution_count": null,
   "id": "227521a4",
   "metadata": {},
   "outputs": [],
   "source": []
  },
  {
   "cell_type": "code",
   "execution_count": null,
   "id": "0fe272e6",
   "metadata": {},
   "outputs": [],
   "source": []
  },
  {
   "cell_type": "code",
   "execution_count": null,
   "id": "a41ae973",
   "metadata": {},
   "outputs": [],
   "source": []
  },
  {
   "cell_type": "code",
   "execution_count": null,
   "id": "e985fa36",
   "metadata": {},
   "outputs": [],
   "source": []
  }
 ],
 "metadata": {
  "kernelspec": {
   "display_name": "Python 3 (ipykernel)",
   "language": "python",
   "name": "python3"
  },
  "language_info": {
   "codemirror_mode": {
    "name": "ipython",
    "version": 3
   },
   "file_extension": ".py",
   "mimetype": "text/x-python",
   "name": "python",
   "nbconvert_exporter": "python",
   "pygments_lexer": "ipython3",
   "version": "3.8.10"
  }
 },
 "nbformat": 4,
 "nbformat_minor": 5
}
