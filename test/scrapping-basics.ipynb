{
 "cells": [
  {
   "cell_type": "code",
   "execution_count": 2,
   "id": "efae54a3",
   "metadata": {},
   "outputs": [
    {
     "name": "stdout",
     "output_type": "stream",
     "text": [
      "Requirement already satisfied: bs4 in /home/tricon/.local/lib/python3.8/site-packages (0.0.1)\r\n",
      "Requirement already satisfied: beautifulsoup4 in /home/tricon/.local/lib/python3.8/site-packages (from bs4) (4.10.0)\r\n",
      "Requirement already satisfied: soupsieve>1.2 in /home/tricon/.local/lib/python3.8/site-packages (from beautifulsoup4->bs4) (2.3.1)\r\n"
     ]
    }
   ],
   "source": [
    "!pip install bs4"
   ]
  },
  {
   "cell_type": "code",
   "execution_count": 3,
   "id": "bb43260f",
   "metadata": {},
   "outputs": [],
   "source": [
    "from bs4 import BeautifulSoup\n"
   ]
  },
  {
   "cell_type": "code",
   "execution_count": 5,
   "id": "e66369d4",
   "metadata": {},
   "outputs": [],
   "source": [
    "# with open('home.html','r') as html_file:\n",
    "#     content = html_file.read()\n",
    "with open('./home.html','r') as file:\n",
    "    content = file.read()"
   ]
  },
  {
   "cell_type": "code",
   "execution_count": 7,
   "id": "e29b2922",
   "metadata": {},
   "outputs": [],
   "source": [
    "soup = BeautifulSoup(content,'lxml')"
   ]
  },
  {
   "cell_type": "code",
   "execution_count": 12,
   "id": "18acaa14",
   "metadata": {},
   "outputs": [],
   "source": [
    "l = soup.find_all('div',class_='card')"
   ]
  },
  {
   "cell_type": "code",
   "execution_count": 16,
   "id": "19bce1f8",
   "metadata": {},
   "outputs": [
    {
     "data": {
      "text/plain": [
       "'Python for beginners'"
      ]
     },
     "execution_count": 16,
     "metadata": {},
     "output_type": "execute_result"
    }
   ],
   "source": [
    "l[0].find('h5',class_='card-title').text"
   ]
  },
  {
   "cell_type": "code",
   "execution_count": 17,
   "id": "b14d6470",
   "metadata": {},
   "outputs": [
    {
     "data": {
      "text/plain": [
       "'Python Web Development'"
      ]
     },
     "execution_count": 17,
     "metadata": {},
     "output_type": "execute_result"
    }
   ],
   "source": [
    "l[1].find('h5',class_='card-title').text"
   ]
  },
  {
   "cell_type": "code",
   "execution_count": 18,
   "id": "8a97d83d",
   "metadata": {},
   "outputs": [
    {
     "data": {
      "text/plain": [
       "'Python Machine Learning'"
      ]
     },
     "execution_count": 18,
     "metadata": {},
     "output_type": "execute_result"
    }
   ],
   "source": [
    "l[2].find('h5',class_='card-title').text"
   ]
  },
  {
   "cell_type": "code",
   "execution_count": 19,
   "id": "d041aa7b",
   "metadata": {},
   "outputs": [
    {
     "name": "stdout",
     "output_type": "stream",
     "text": [
      "Python for beginners\n",
      "Python Web Development\n",
      "Python Machine Learning\n"
     ]
    }
   ],
   "source": [
    "for i in l:\n",
    "    print(i.find('h5',class_='card-title').text)"
   ]
  },
  {
   "cell_type": "code",
   "execution_count": null,
   "id": "7f810937",
   "metadata": {},
   "outputs": [],
   "source": []
  }
 ],
 "metadata": {
  "kernelspec": {
   "display_name": "Python 3 (ipykernel)",
   "language": "python",
   "name": "python3"
  },
  "language_info": {
   "codemirror_mode": {
    "name": "ipython",
    "version": 3
   },
   "file_extension": ".py",
   "mimetype": "text/x-python",
   "name": "python",
   "nbconvert_exporter": "python",
   "pygments_lexer": "ipython3",
   "version": "3.8.10"
  }
 },
 "nbformat": 4,
 "nbformat_minor": 5
}
