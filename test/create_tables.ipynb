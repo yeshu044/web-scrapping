{
 "cells": [
  {
   "cell_type": "code",
   "execution_count": 1,
   "id": "a283b066",
   "metadata": {},
   "outputs": [],
   "source": [
    "import pandas as pd\n"
   ]
  },
  {
   "cell_type": "code",
   "execution_count": 158,
   "id": "672eb927",
   "metadata": {},
   "outputs": [],
   "source": [
    "df = pd.read_csv('./../../scrapping_outputs/joined_data/cooking_oil/joined_result.csv')\n",
    "product_type = 'cooking_oil'\n"
   ]
  },
  {
   "cell_type": "code",
   "execution_count": 119,
   "id": "f57f9845",
   "metadata": {},
   "outputs": [],
   "source": [
    "def getRenameDict(related_columns,platform):\n",
    "    returnDict = {}\n",
    "    for i in related_columns:\n",
    "        returnDict[i] = i.replace(platform+'_','')\n",
    "    return returnDict\n",
    "# 'flipkart_product'.replace('flipkart_','')"
   ]
  },
  {
   "cell_type": "code",
   "execution_count": 166,
   "id": "8457544a",
   "metadata": {},
   "outputs": [
    {
     "name": "stderr",
     "output_type": "stream",
     "text": [
      "/home/tricon/.local/lib/python3.8/site-packages/pandas/core/frame.py:5034: SettingWithCopyWarning: \n",
      "A value is trying to be set on a copy of a slice from a DataFrame\n",
      "\n",
      "See the caveats in the documentation: https://pandas.pydata.org/pandas-docs/stable/user_guide/indexing.html#returning-a-view-versus-a-copy\n",
      "  return super().rename(\n",
      "/home/tricon/.local/lib/python3.8/site-packages/pandas/core/frame.py:3607: SettingWithCopyWarning: \n",
      "A value is trying to be set on a copy of a slice from a DataFrame.\n",
      "Try using .loc[row_indexer,col_indexer] = value instead\n",
      "\n",
      "See the caveats in the documentation: https://pandas.pydata.org/pandas-docs/stable/user_guide/indexing.html#returning-a-view-versus-a-copy\n",
      "  self._set_item(key, value)\n"
     ]
    }
   ],
   "source": [
    "def saveProducts():\n",
    "    for platform in ['flipkart','amazon']:\n",
    "        related_columns = [col  for col in df.columns if platform in col]  \n",
    "        filtered = df[related_columns]\n",
    "        filtered.rename(columns=getRenameDict(related_columns,platform),inplace=True)\n",
    "        filtered['source'] = platform\n",
    "        filtered['name_hash'] = filtered[['product','source']].apply(lambda x: hash(tuple(x)), axis = 1)\n",
    "        filtered = filtered.drop_duplicates(['name_hash'])\n",
    "        filtered['prodcut_type'] = product_type\n",
    "        filtered.to_csv(f'./products/{platform}_products.csv',)\n",
    "saveProducts()"
   ]
  },
  {
   "cell_type": "code",
   "execution_count": 170,
   "id": "87769e66",
   "metadata": {},
   "outputs": [],
   "source": [
    "df = df[df.mached  == 'yes']\n",
    "for platform in ['flipkart','amazon']:\n",
    "    df[platform+'_soure'] = platform\n",
    "    df[platform+'_id'] = df[[platform+'_product',platform+'_soure']].apply(lambda x: hash(tuple(x)), axis = 1)\n",
    "\n",
    "joined_data = df[['flipkart_id','amazon_id','ratio']]\n",
    "joined_data.to_csv('./intersection/intersection.csv')"
   ]
  },
  {
   "cell_type": "code",
   "execution_count": null,
   "id": "cfa70a3c",
   "metadata": {},
   "outputs": [],
   "source": []
  },
  {
   "cell_type": "code",
   "execution_count": null,
   "id": "1cff2727",
   "metadata": {},
   "outputs": [],
   "source": []
  },
  {
   "cell_type": "code",
   "execution_count": 171,
   "id": "1438a49f",
   "metadata": {},
   "outputs": [],
   "source": [
    "import glob\n",
    "path = './products/'"
   ]
  },
  {
   "cell_type": "code",
   "execution_count": 174,
   "id": "fb1e0569",
   "metadata": {},
   "outputs": [],
   "source": [
    "products = pd.concat([pd.read_csv(f) for f in glob.glob(path+'*.csv')]).drop_duplicates('name_hash')"
   ]
  },
  {
   "cell_type": "code",
   "execution_count": null,
   "id": "fc353681",
   "metadata": {},
   "outputs": [],
   "source": [
    "\n"
   ]
  },
  {
   "cell_type": "code",
   "execution_count": null,
   "id": "9e704f7c",
   "metadata": {},
   "outputs": [],
   "source": []
  },
  {
   "cell_type": "code",
   "execution_count": 191,
   "id": "a79f4fd9",
   "metadata": {},
   "outputs": [],
   "source": [
    "flikart_data = joined_data.join(products.set_index('name_hash'),on ='flipkart_id' )\n",
    "amazon_data  = joined_data.join(products.set_index('name_hash'),on ='amazon_id' )"
   ]
  },
  {
   "cell_type": "code",
   "execution_count": 253,
   "id": "7f986068",
   "metadata": {},
   "outputs": [],
   "source": [
    "l = []\n",
    "for i in range(amazon_data.shape[0]):\n",
    "     l.append({\n",
    "        'name':amazon_data.iloc[i]['product'],\n",
    "        'sources_info':[\n",
    "            {\n",
    "                'source':'Amazon',\n",
    "                'cost':amazon_data.iloc[i]['price'],\n",
    "                'link' : amazon_data.iloc[i]['product_link'],\n",
    "            },\n",
    "            {\n",
    "                'source':'Flipkart',\n",
    "                'cost':flikart_data.iloc[i]['price'],\n",
    "                'link' : flikart_data.iloc[i]['product_link'],\n",
    "            }\n",
    "        ]})\n",
    "        \n",
    "        "
   ]
  },
  {
   "cell_type": "code",
   "execution_count": 254,
   "id": "44e6bfae",
   "metadata": {},
   "outputs": [
    {
     "data": {
      "text/plain": [
       "[{'name': 'Gold Winner Refined Sunflower Oil, 5l',\n",
       "  'sources_info': [{'source': 'Amazon',\n",
       "    'cost': '₹709',\n",
       "    'link': 'https://www.amazon.in//Gold-Winner-Refined-Sunflower-Oil/dp/B012AO394C/ref=sr_1_37_0o_fs?almBrandId=ctnow&fpw=alm&keywords=cooking+oil&qid=1638693875&sr=8-37'},\n",
       "   {'source': 'Flipkart',\n",
       "    'cost': '₹742',\n",
       "    'link': 'https://www.flipkart.com/gold-winner-refined-sunflower-oil-can/p/itm6ad5d42f0389a?pid=EDOETZNK3BBCBXUZ&lid=LSTEDOETZNK3BBCBXUZ0KEE4Z&marketplace=GROCERY&q=cooking+oil&store=eat%2F18p&srno=s_1_14&otracker=search&fm=organic&iid=4748175e-5870-446d-81c2-072847a28b7e.EDOETZNK3BBCBXUZ.SEARCH&ppt=None&ppn=None&ssid=nhqhtwznv40000001638693857905&qH=6f7a90f8cb150708'}]},\n",
       " {'name': 'Freedom Refined Sunflower Oil, 1L',\n",
       "  'sources_info': [{'source': 'Amazon',\n",
       "    'cost': '₹144',\n",
       "    'link': 'https://www.amazon.in//Freedom-Refined-Sunflower-Oil-1L/dp/B01BUZZ7H4/ref=sr_1_10_0o_fs?almBrandId=ctnow&fpw=alm&keywords=cooking+oil&qid=1638693875&sr=8-10'},\n",
       "   {'source': 'Flipkart',\n",
       "    'cost': '₹783',\n",
       "    'link': 'https://www.flipkart.com/freedom-refined-sunflower-oil-can/p/itm3a52763ef057e?pid=EDOEY7YEMCMJ8WYC&lid=LSTEDOEY7YEMCMJ8WYCX7LRBJ&marketplace=GROCERY&q=cooking+oil&store=eat%2F18p&srno=s_2_49&otracker=search&fm=organic&iid=ddf71f2d-ac57-4ab1-bee3-63783f66c1d3.EDOEY7YEMCMJ8WYC.SEARCH&ppt=None&ppn=None&ssid=wqumpavmm80000001638693892108&qH=6f7a90f8cb150708'}]},\n",
       " {'name': 'Fortune Sunlite Refined Sunflower Oil, 1L',\n",
       "  'sources_info': [{'source': 'Amazon',\n",
       "    'cost': '₹146',\n",
       "    'link': 'https://www.amazon.in//Fortune-Sunlite-Refined-Sunflower-Oil/dp/B00NYZTGEO/ref=sr_1_7_0o_fs?almBrandId=ctnow&fpw=alm&keywords=cooking+oil&qid=1638693875&sr=8-7'},\n",
       "   {'source': 'Flipkart',\n",
       "    'cost': '₹93',\n",
       "    'link': 'https://www.flipkart.com/fortune-sunlite-refined-sunflower-oil-pouch/p/itmcd35e608db062?pid=EDOF828RTZHYEKQP&lid=LSTEDOF828RTZHYEKQPCGVEBB&marketplace=GROCERY&q=cooking+oil&store=eat%2F18p&srno=s_1_37&otracker=search&fm=organic&iid=4748175e-5870-446d-81c2-072847a28b7e.EDOF828RTZHYEKQP.SEARCH&ppt=None&ppn=None&ssid=nhqhtwznv40000001638693857905&qH=6f7a90f8cb150708'}]}]"
      ]
     },
     "execution_count": 254,
     "metadata": {},
     "output_type": "execute_result"
    }
   ],
   "source": [
    "l"
   ]
  },
  {
   "cell_type": "code",
   "execution_count": null,
   "id": "526d3443",
   "metadata": {},
   "outputs": [],
   "source": []
  }
 ],
 "metadata": {
  "kernelspec": {
   "display_name": "Python 3 (ipykernel)",
   "language": "python",
   "name": "python3"
  },
  "language_info": {
   "codemirror_mode": {
    "name": "ipython",
    "version": 3
   },
   "file_extension": ".py",
   "mimetype": "text/x-python",
   "name": "python",
   "nbconvert_exporter": "python",
   "pygments_lexer": "ipython3",
   "version": "3.8.10"
  }
 },
 "nbformat": 4,
 "nbformat_minor": 5
}
